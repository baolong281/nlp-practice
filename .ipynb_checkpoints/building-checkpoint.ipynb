{
 "cells": [
  {
   "cell_type": "code",
   "execution_count": 1,
   "id": "2ab943f5",
   "metadata": {
    "tags": []
   },
   "outputs": [],
   "source": [
    "words = open('names.txt', 'r').read().splitlines()\n",
    "import torch\n",
    "N = torch.zeros((28, 28), dtype=torch.int32)\n",
    "chars = sorted(list(set(''.join(words))))\n",
    "ctoi = {c:i+1 for i, c in enumerate(chars)}\n",
    "ctoi['.'] = 0\n",
    "itoc = {i:c for c, i in ctoi.items()}\n",
    "for w in words:\n",
    "    chs = ['.'] + list(w) + ['.']\n",
    "    for ch1, ch2 in zip(chs, chs[1:]):\n",
    "        ich1 = ctoi[ch1]\n",
    "        ich2 = ctoi[ch2]\n",
    "        \n",
    "        N[ich1, ich2] += 1"
   ]
  },
  {
   "cell_type": "code",
   "execution_count": 2,
   "id": "2666a4c1-9d0d-41f8-a1b0-1b328bffea99",
   "metadata": {
    "tags": []
   },
   "outputs": [
    {
     "name": "stdout",
     "output_type": "stream",
     "text": [
      "keryn\n",
      "kann\n",
      "gerarovicylen\n",
      "l\n",
      "lony\n",
      "saamaman\n",
      "cistus\n",
      "mcarah\n",
      "s\n",
      "ah\n",
      "ka\n",
      "ishadona\n",
      "elyay\n",
      "deslowirikaielonesocairaben\n",
      "kr\n",
      "thannin\n",
      "a\n",
      "dsyllah\n",
      "turydanar\n",
      "en\n",
      "kedy\n",
      "ynalarada\n",
      "a\n",
      "zayn\n",
      "jas\n",
      "ahi\n",
      "drlliavirienisya\n",
      "ma\n",
      "hiyn\n",
      "meeteriastaconduosti\n",
      "koraigharidinia\n",
      "d\n",
      "lanabra\n",
      "ryiy\n",
      "brmanag\n",
      "jesogdeysheen\n",
      "a\n",
      "brtiun\n",
      "ca\n",
      "layluvian\n"
     ]
    }
   ],
   "source": [
    "for i in range(40):\n",
    "\tidx = 0\n",
    "\tnames = []\n",
    "\twhile True:\n",
    "\t\tp = N[idx]\n",
    "\t\tp = p / p.sum()\n",
    "\t\tidx = torch.multinomial(p, num_samples=1, replacement=True).item()\n",
    "\t\tif idx == 0:\n",
    "\t\t\tbreak\n",
    "\t\telse:\n",
    "\t\t\tnames.append(itoc[idx])\n",
    "\t\t\n",
    "\tprint(''.join(names))\n",
    "\t"
   ]
  },
  {
   "cell_type": "code",
   "execution_count": null,
   "id": "467996f7",
   "metadata": {},
   "outputs": [],
   "source": []
  }
 ],
 "metadata": {
  "kernelspec": {
   "display_name": "torch",
   "language": "python",
   "name": "pytorch"
  },
  "language_info": {
   "codemirror_mode": {
    "name": "ipython",
    "version": 3
   },
   "file_extension": ".py",
   "mimetype": "text/x-python",
   "name": "python",
   "nbconvert_exporter": "python",
   "pygments_lexer": "ipython3",
   "version": "3.10.9"
  },
  "vscode": {
   "interpreter": {
    "hash": "d61f7ebe815f25a0725483c4c6c35f709219e42d0b59b904901a8269daabcd0e"
   }
  }
 },
 "nbformat": 4,
 "nbformat_minor": 5
}
