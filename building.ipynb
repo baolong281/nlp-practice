{
 "cells": [
  {
   "cell_type": "markdown",
   "id": "26514ace-012b-439f-8306-783dfd057530",
   "metadata": {},
   "source": [
    "# bigram"
   ]
  },
  {
   "cell_type": "code",
   "execution_count": 74,
   "id": "20d699a5-cddf-4678-a004-65d73f2da441",
   "metadata": {
    "tags": []
   },
   "outputs": [],
   "source": [
    "words = open('names.txt', 'r').read().splitlines()"
   ]
  },
  {
   "cell_type": "code",
   "execution_count": 70,
   "id": "2ab943f5",
   "metadata": {
    "tags": []
   },
   "outputs": [],
   "source": [
    "import torch\n",
    "N = torch.zeros((28, 28), dtype=torch.int32)\n",
    "chars = sorted(list(set(''.join(words))))\n",
    "ctoi = {c:i+1 for i, c in enumerate(chars)}\n",
    "ctoi['.'] = 0\n",
    "itoc = {i:c for c, i in ctoi.items()}\n",
    "for w in words:\n",
    "    chs = ['.'] + list(w) + ['.']\n",
    "    for ch1, ch2 in zip(chs, chs[1:]):\n",
    "        ich1 = ctoi[ch1]\n",
    "        ich2 = ctoi[ch2]\n",
    "        \n",
    "        N[ich1, ich2] += 1"
   ]
  },
  {
   "cell_type": "code",
   "execution_count": 71,
   "id": "2f351a6f-a57a-4b17-bfd9-9bac04b7ee22",
   "metadata": {
    "tags": []
   },
   "outputs": [],
   "source": [
    "P = N.float()\n",
    "p /= N.sum(1, keepdim=True)"
   ]
  },
  {
   "cell_type": "code",
   "execution_count": 72,
   "id": "2666a4c1-9d0d-41f8-a1b0-1b328bffea99",
   "metadata": {
    "tags": []
   },
   "outputs": [
    {
     "name": "stdout",
     "output_type": "stream",
     "text": [
      "kawifer\n",
      "jomar\n",
      "kellyustramohon\n",
      "an\n",
      "hmosi\n",
      "jonesyssmiaa\n",
      "penabriklezishodisaleyshoheman\n",
      "zi\n",
      "diselaxemable\n",
      "tri\n"
     ]
    }
   ],
   "source": [
    "for i in range(10):\n",
    "\tidx = 0\n",
    "\tnames = []\n",
    "\twhile True:\n",
    "\t\tpo = p[idx]\n",
    "\t\tidx = torch.multinomial(po, num_samples=1, replacement=True).item()\n",
    "\t\tif idx == 0:\n",
    "\t\t\tbreak\n",
    "\t\telse:\n",
    "\t\t\tnames.append(itoc[idx])\n",
    "\t\t\n",
    "\tprint(''.join(names))\n",
    "\t"
   ]
  },
  {
   "cell_type": "code",
   "execution_count": 91,
   "id": "e0378ea9-98fb-4bea-9a6e-4898e1a0bbf4",
   "metadata": {
    "tags": []
   },
   "outputs": [],
   "source": [
    "ax = []\n",
    "ay = []\n",
    "\n",
    "for w in words:\n",
    "    chs = ['.'] + list(w) + ['.']\n",
    "    for ch1, ch2 in zip(chs, chs[1:]):\n",
    "        ax.append(ctoi[ch1])\n",
    "        ay.append(ctoi[ch2])\n",
    "        \n",
    "        \n",
    "ax = torch.tensor(ax)\n",
    "ay = torch.tensor(ay)"
   ]
  },
  {
   "cell_type": "code",
   "execution_count": 92,
   "id": "40d3c8a5-e2ed-463d-ada4-d7abb43e17f4",
   "metadata": {
    "tags": []
   },
   "outputs": [],
   "source": [
    "import torch.nn.functional as F\n",
    "xenc = F.one_hot(ax, num_classes=27).float()\n",
    "xenc.shape\n",
    "\n",
    "W = torch.randn((27, 27), requires_grad=True)"
   ]
  },
  {
   "cell_type": "code",
   "execution_count": 149,
   "id": "358741bf-031a-4f02-99fb-3510e3d1a1e4",
   "metadata": {
    "tags": []
   },
   "outputs": [
    {
     "name": "stdout",
     "output_type": "stream",
     "text": [
      "round: 0 loss=tensor(2.4546, grad_fn=<NegBackward0>)\n",
      "round: 50 loss=tensor(2.4546, grad_fn=<NegBackward0>)\n",
      "round: 100 loss=tensor(2.4545, grad_fn=<NegBackward0>)\n",
      "round: 150 loss=tensor(2.4545, grad_fn=<NegBackward0>)\n",
      "round: 200 loss=tensor(2.4545, grad_fn=<NegBackward0>)\n",
      "round: 250 loss=tensor(2.4545, grad_fn=<NegBackward0>)\n",
      "round: 300 loss=tensor(2.4545, grad_fn=<NegBackward0>)\n",
      "round: 350 loss=tensor(2.4545, grad_fn=<NegBackward0>)\n",
      "round: 400 loss=tensor(2.4545, grad_fn=<NegBackward0>)\n",
      "round: 450 loss=tensor(2.4544, grad_fn=<NegBackward0>)\n",
      "round: 500 loss=tensor(2.4544, grad_fn=<NegBackward0>)\n",
      "round: 550 loss=tensor(2.4544, grad_fn=<NegBackward0>)\n",
      "round: 600 loss=tensor(2.4544, grad_fn=<NegBackward0>)\n",
      "round: 650 loss=tensor(2.4544, grad_fn=<NegBackward0>)\n",
      "round: 700 loss=tensor(2.4544, grad_fn=<NegBackward0>)\n",
      "round: 750 loss=tensor(2.4544, grad_fn=<NegBackward0>)\n",
      "round: 800 loss=tensor(2.4544, grad_fn=<NegBackward0>)\n",
      "round: 850 loss=tensor(2.4544, grad_fn=<NegBackward0>)\n",
      "round: 900 loss=tensor(2.4544, grad_fn=<NegBackward0>)\n",
      "round: 950 loss=tensor(2.4543, grad_fn=<NegBackward0>)\n"
     ]
    }
   ],
   "source": [
    "\n",
    "for i in range(1000):\n",
    "    pred = xenc @ W\n",
    "    pred = pred.exp()\n",
    "    probs = pred / pred.sum(1, keepdim=True)\n",
    "    loss = -probs[torch.arange(xenc.shape[0]), ay].log().mean()\n",
    "    \n",
    "    W.grad = None\n",
    "    loss.backward()\n",
    "    W.data += W.grad * -80\n",
    "    if i % 50 == 0:\n",
    "        print(f'round: {i} {loss=}')\n"
   ]
  },
  {
   "cell_type": "code",
   "execution_count": 169,
   "id": "c9eeb7f0-c603-4b01-bde9-fb42de19b373",
   "metadata": {
    "tags": []
   },
   "outputs": [
    {
     "name": "stdout",
     "output_type": "stream",
     "text": [
      ".emma.\n",
      ".a.\n",
      ".coniah.\n",
      ".mastonnsorrirodhavishamaylaneinn.\n",
      ".deyn.\n",
      ".ka.\n",
      ".sha.\n",
      ".kamaeled.\n",
      ".arare.\n",
      ".eohed.\n",
      ".va.\n",
      ".iehaday.\n",
      ".mevyatrizimountija.\n",
      ".e.\n",
      ".alenaerelollislttolynndvysh.\n",
      ".maacamatrvonaukobetastighandllaloban.\n",
      ".jinngwanahain.\n",
      ".l.\n",
      ".taikaycalbrm.\n",
      ".a.\n"
     ]
    }
   ],
   "source": [
    "for i in range(20):\n",
    "    word = [0]\n",
    "    token = torch.tensor([0])\n",
    "    while True:\n",
    "        token = F.one_hot(token, num_classes=27).float()\n",
    "        pred = token @ W\n",
    "        pred = pred.exp()\n",
    "        pred /= pred.sum(1, keepdim=True)\n",
    "        token = torch.tensor([torch.multinomial(pred, 1, replacement=True).item()])\n",
    "        word.append(token.item())\n",
    "        if token.item() == 0:\n",
    "            break\n",
    "            \n",
    "    print(''.join(itoc[c] for c in word)) \n",
    "        \n",
    "        "
   ]
  },
  {
   "cell_type": "code",
   "execution_count": null,
   "id": "1e45ab87-d09e-46b3-9394-3b0f1993b2d1",
   "metadata": {},
   "outputs": [],
   "source": []
  }
 ],
 "metadata": {
  "kernelspec": {
   "display_name": "torch",
   "language": "python",
   "name": "pytorch"
  },
  "language_info": {
   "codemirror_mode": {
    "name": "ipython",
    "version": 3
   },
   "file_extension": ".py",
   "mimetype": "text/x-python",
   "name": "python",
   "nbconvert_exporter": "python",
   "pygments_lexer": "ipython3",
   "version": "3.10.9"
  },
  "vscode": {
   "interpreter": {
    "hash": "d61f7ebe815f25a0725483c4c6c35f709219e42d0b59b904901a8269daabcd0e"
   }
  }
 },
 "nbformat": 4,
 "nbformat_minor": 5
}
