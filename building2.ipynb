{
 "cells": [
  {
   "cell_type": "code",
   "execution_count": 473,
   "id": "bbbac966-a9d5-4911-abb2-bfd3763c363e",
   "metadata": {
    "tags": []
   },
   "outputs": [],
   "source": [
    "import torch\n",
    "import torch.nn.functional as F\n",
    "import matplotlib.pyplot as plt\n",
    "%matplotlib inline\n"
   ]
  },
  {
   "cell_type": "code",
   "execution_count": 474,
   "id": "36e9822d-8f52-4e93-99a2-19c6a8f0c4d8",
   "metadata": {
    "tags": []
   },
   "outputs": [
    {
     "data": {
      "text/plain": [
       "['emma', 'olivia', 'ava', 'isabella', 'sophia']"
      ]
     },
     "execution_count": 474,
     "metadata": {},
     "output_type": "execute_result"
    }
   ],
   "source": [
    "all_words = open('names.txt', 'r').read().splitlines()\n",
    "words[:5]"
   ]
  },
  {
   "cell_type": "code",
   "execution_count": 475,
   "id": "3e02d896-89be-42a5-b3ea-4dbc39092435",
   "metadata": {
    "tags": []
   },
   "outputs": [],
   "source": [
    "chars = sorted(list(set(''.join(all_words))))\n",
    "ctoi = {c:i+1 for i, c in enumerate(chars)}\n",
    "ctoi['.'] = 0\n",
    "itoc = {i:c for c, i in ctoi.items()}"
   ]
  },
  {
   "cell_type": "markdown",
   "id": "6f547aae-0ee1-4cdf-98bc-5315fe466000",
   "metadata": {},
   "source": [
    "# hyperparameters"
   ]
  },
  {
   "cell_type": "code",
   "execution_count": 476,
   "id": "45b03af0-4dac-4332-bc14-98dfb793001d",
   "metadata": {
    "tags": []
   },
   "outputs": [],
   "source": [
    "WORDVEC_DIM = 15\n",
    "CONTEXT_WINDOW = 4\n",
    "HIDDEN_NEURONS = 250 "
   ]
  },
  {
   "cell_type": "code",
   "execution_count": 477,
   "id": "3d0a75fd-3315-49de-bba7-6277d9000044",
   "metadata": {
    "tags": []
   },
   "outputs": [],
   "source": [
    "def build_dataset(words):\n",
    "    X, Y = [], []\n",
    "    for w in words:\n",
    "\n",
    "        context = [0] * CONTEXT_WINDOW\n",
    "        #print(w)\n",
    "        for ch in w + '.':\n",
    "            ix = ctoi[ch]\n",
    "            Y.append(ix)\n",
    "            X.append(context)\n",
    "            #print(''.join(itoc[po] for po in context), '--->', ch)\n",
    "            context = context[1:] + [ix]\n",
    "            \n",
    "    return (X, Y)\n",
    "\n",
    "import random\n",
    "random.shuffle(all_words)\n",
    "\n",
    "L1 = int(0.8*len(words))\n",
    "L2 = L1 + int(0.1*len(words))\n",
    "\n",
    "X_train, Y_train = build_dataset(all_words[:L1])\n",
    "X_val, Y_val = build_dataset(all_words[L1:L2])\n",
    "X_test, Y_test = build_dataset(all_words[L2:])"
   ]
  },
  {
   "cell_type": "code",
   "execution_count": 478,
   "id": "89cd8902-5254-4467-9f73-3e6109086163",
   "metadata": {
    "tags": []
   },
   "outputs": [],
   "source": [
    "X_train = torch.tensor(X_train)\n",
    "Y_train = torch.tensor(Y_train)\n",
    "X_val = torch.tensor(X_val)\n",
    "Y_val = torch.tensor(Y_val)\n",
    "X_test = torch.tensor(X_test)\n",
    "Y_test = torch.tensor(Y_test)"
   ]
  },
  {
   "cell_type": "code",
   "execution_count": 479,
   "id": "e8168175-b3fc-424d-9a64-73dfd5568657",
   "metadata": {
    "tags": []
   },
   "outputs": [],
   "source": [
    "C = torch.randn((27, WORDVEC_DIM)) \n",
    "W1 = (torch.randn((WORDVEC_DIM * CONTEXT_WINDOW, HIDDEN_NEURONS)))\n",
    "b1 = torch.randn(HIDDEN_NEURONS)\n",
    "W2 = torch.randn((HIDDEN_NEURONS, 27))\n",
    "b2 = torch.randn(27)\n",
    "\n",
    "params = [C, W1, W2, b1, b2]\n",
    "        \n",
    "for p in params:\n",
    "    p.requires_grad = True\n",
    "    \n"
   ]
  },
  {
   "cell_type": "code",
   "execution_count": 480,
   "id": "bea935e2-0d84-4d1b-bdc5-b58efea4d26d",
   "metadata": {
    "tags": []
   },
   "outputs": [],
   "source": [
    "losses = []\n",
    "step = []\n",
    "val_losses = []\n",
    "val_steps = []"
   ]
  },
  {
   "cell_type": "code",
   "execution_count": 481,
   "id": "6765efdd-d025-4198-80c8-c57d229605ff",
   "metadata": {
    "tags": []
   },
   "outputs": [],
   "source": [
    "#forward pass    \n",
    "\n",
    "for _ in range(1000000):\n",
    "    \n",
    "    ix = torch.randint(0, X_train.shape[0], (12, ))\n",
    "    \n",
    "    emb = C[X_train[ix]]\n",
    "    hidden = torch.relu(emb.view(-1, WORDVEC_DIM * CONTEXT_WINDOW) @ W1 + b1)\n",
    "    logits = hidden @ W2 + b2\n",
    "\n",
    "    loss = F.cross_entropy(logits, Y_train[ix])\n",
    "    \n",
    "    for p in params:\n",
    "        p.grad = None\n",
    "    loss.backward()\n",
    "    \n",
    "    lr = .05 if _ < 600000 else .01\n",
    "    for p in params:\n",
    "        p.data += -lr * p.grad \n",
    "    \n",
    "    if _ % 500  == 0:\n",
    "        emb = C[X_val]\n",
    "        hidden = torch.relu(emb.view(-1, WORDVEC_DIM * CONTEXT_WINDOW) @ W1 + b1)\n",
    "        logits = hidden @ W2 + b2\n",
    "        bob = F.cross_entropy(logits, Y_val)\n",
    "        val_losses.append(bob.log10().item())\n",
    "        val_steps.append(_)\n",
    "\n",
    "\n",
    "    \n",
    "    losses.append(loss.log10().item())\n",
    "    step.append(_)\n",
    "        "
   ]
  },
  {
   "cell_type": "code",
   "execution_count": 482,
   "id": "c97f31f0-ec9d-4fc4-bf64-b4a3bc197ba8",
   "metadata": {
    "tags": []
   },
   "outputs": [
    {
     "data": {
      "text/plain": [
       "[<matplotlib.lines.Line2D at 0x1db45885db0>]"
      ]
     },
     "execution_count": 482,
     "metadata": {},
     "output_type": "execute_result"
    },
    {
     "data": {
      "image/png": "[encoded data removed]",
      "text/plain": [
       "<Figure size 640x480 with 1 Axes>"
      ]
     },
     "metadata": {},
     "output_type": "display_data"
    }
   ],
   "source": [
    "plt.plot(step, losses)\n",
    "plt.plot(val_steps, val_losses)"
   ]
  },
  {
   "cell_type": "code",
   "execution_count": 483,
   "id": "d6cbff09-2e58-47a7-b2d4-9e39cac340e5",
   "metadata": {
    "jupyter": {
     "source_hidden": true
    },
    "tags": []
   },
   "outputs": [
    {
     "data": {
      "text/plain": [
       "2.126085042953491"
      ]
     },
     "execution_count": 483,
     "metadata": {},
     "output_type": "execute_result"
    }
   ],
   "source": [
    "emb = C[X_train]\n",
    "hidden = torch.relu(emb.view(-1, CONTEXT_WINDOW * WORDVEC_DIM) @ W1 + b1)\n",
    "logits = hidden @ W2 + b2\n",
    "loss = F.cross_entropy(logits, Y_train)\n",
    "loss.item()"
   ]
  },
  {
   "cell_type": "code",
   "execution_count": 491,
   "id": "6537adc6-96ce-4036-8621-fae5484117c3",
   "metadata": {
    "tags": []
   },
   "outputs": [
    {
     "data": {
      "text/plain": [
       "tensor(2.1586, grad_fn=<NllLossBackward0>)"
      ]
     },
     "execution_count": 491,
     "metadata": {},
     "output_type": "execute_result"
    }
   ],
   "source": [
    "emb = C[X_val]\n",
    "hidden = torch.relu(emb.view(-1, CONTEXT_WINDOW * WORDVEC_DIM) @ W1 + b1)\n",
    "logits = hidden @ W2 + b2\n",
    "bob = F.cross_entropy(logits, Y_val)\n",
    "bob\n"
   ]
  },
  {
   "cell_type": "code",
   "execution_count": 492,
   "id": "329cf352-d28b-4abf-96c9-9eb431461ce1",
   "metadata": {
    "tags": []
   },
   "outputs": [
    {
     "name": "stdout",
     "output_type": "stream",
     "text": [
      "arius\n",
      "faison\n",
      "hamsel\n",
      "tiana\n",
      "tamela\n",
      "welynn\n",
      "jejando\n",
      "ejonayiah\n",
      "saylon\n",
      "jameree\n"
     ]
    }
   ],
   "source": [
    "for _ in range(10):\n",
    "    res = []\n",
    "    context = [0] * CONTEXT_WINDOW\n",
    "    while True:\n",
    "        xenc = C[torch.tensor([context])]\n",
    "        hidden =torch.relu(xenc.view(1, -1) @ W1 + b1)\n",
    "        logits = hidden @ W2 + b2\n",
    "        probs = F.softmax(logits, dim=1)\n",
    "        token = torch.multinomial(probs, num_samples=1, replacement=True).item()\n",
    "        context = context[1:] + [token]\n",
    "        if token == 0:\n",
    "            break\n",
    "        res.append(token)\n",
    "    \n",
    "    print(''.join([itoc[idx] for idx in res]))\n",
    "        \n",
    "        "
   ]
  },
  {
   "cell_type": "markdown",
   "id": "e4ac69bd-f63b-40e4-a463-f6f1dce4fb06",
   "metadata": {},
   "source": [
    "# NUMBER TO BEAT ---> 1.17"
   ]
  }
 ],
 "metadata": {
  "kernelspec": {
   "display_name": "torch",
   "language": "python",
   "name": "pytorch"
  },
  "language_info": {
   "codemirror_mode": {
    "name": "ipython",
    "version": 3
   },
   "file_extension": ".py",
   "mimetype": "text/x-python",
   "name": "python",
   "nbconvert_exporter": "python",
   "pygments_lexer": "ipython3",
   "version": "3.10.9"
  }
 },
 "nbformat": 4,
 "nbformat_minor": 5
}
