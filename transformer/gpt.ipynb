{
 "cells": [
  {
   "cell_type": "code",
   "execution_count": 264,
   "id": "f36f7e33-297f-4da7-bd48-146982b1813d",
   "metadata": {
    "tags": []
   },
   "outputs": [],
   "source": [
    "import torch\n",
    "import torch.nn as nn\n",
    "from torch.nn import functional as F\n",
    "import matplotlib.pyplot as plt\n",
    "\n",
    "batch_size = 32\n",
    "block_size = 128 \n",
    "train_iters = 3000\n",
    "learning_rate = 3e-4\n",
    "n_embd = 384\n",
    "n_head = 8\n",
    "\n",
    "with open('text.txt', 'r', encoding='utf-8') as f:\n",
    "    text = f.read()\n",
    "\n",
    "chars = sorted(list(set(text)))\n",
    "vocab_size = len(chars)\n",
    "\n",
    "stoi = { ch:i for i,ch in enumerate(chars) }\n",
    "itos = { i:ch for i,ch in enumerate(chars) }\n",
    "encode = lambda s: [stoi[c] for c in s] \n",
    "decode = lambda l: ''.join([itos[i] for i in l]) \n",
    "\n",
    "data = torch.tensor(encode(text), dtype=torch.long)\n",
    "n = int(0.9*len(data)) \n",
    "train_data = data[:n]\n",
    "val_data = data[n:]\n",
    "\n",
    "def get_batch(split=None):\n",
    "    data = train_data if split == 'train' else val_data\n",
    "    ix = torch.randint(len(data) - block_size, (batch_size,))\n",
    "    x = torch.stack([data[i:i+block_size] for i in ix])\n",
    "    y = torch.stack([data[i+1:i+block_size+1] for i in ix])\n",
    "    return x, y\n"
   ]
  },
  {
   "cell_type": "code",
   "execution_count": 287,
   "id": "04828d55-b42b-498e-8835-f7f0f764a3cc",
   "metadata": {
    "tags": []
   },
   "outputs": [],
   "source": [
    "class Head(nn.Module):\n",
    "    \n",
    "    def __init__(self, head_size):\n",
    "        super().__init__()\n",
    "        self.key = nn.Linear(n_embd, head_size, bias=False)\n",
    "        self.query = nn.Linear(n_embd, head_size, bias=False)\n",
    "        self.value = nn.Linear(n_embd, head_size, bias=False)\n",
    "        self.register_buffer('tril', torch.tril(torch.ones(block_size, block_size)))\n",
    "        \n",
    "    def forward(self, x):\n",
    "        k = self.key(x)\n",
    "        q = self.query(x)\n",
    "        v = self.value(x)\n",
    "        \n",
    "        wei= q @ k.transpose(-2, -1) * k.shape[-1] ** -.5\n",
    "        wei = wei.masked_fill(self.tril == 0, float('-inf'))\n",
    "        wei = F.softmax(wei, dim=-1)\n",
    "        \n",
    "        out = wei @ v\n",
    "        return out\n",
    "    \n",
    "class MultiheadAttention(nn.Module):\n",
    "    \n",
    "    def __init__(self, num_heads, head_size):\n",
    "        super().__init__()\n",
    "        self.heads = nn.ModuleList([Head(head_size) for _ in range(num_heads)])\n",
    "        \n",
    "    def forward(self, x):\n",
    "        return torch.cat([head(x) for head in self.heads], dim=-1)\n",
    "\n",
    "class FeedForward(nn.Module):\n",
    "    \n",
    "    def __init__(self, n_embd):\n",
    "        super().__init__()\n",
    "        self.net = nn.Sequential(\n",
    "            nn.Linear(n_embd, n_embd),\n",
    "            nn.ReLU(),\n",
    "            nn.Linear(n_embd, n_embd),\n",
    "        )\n",
    "        \n",
    "    def forward(self, x):\n",
    "        return self.net(x)\n",
    "    \n",
    "class TransformerBlock(nn.Module):\n",
    "    \n",
    "    def __init__(self, n_heads, n_embd):\n",
    "        super().__init__()\n",
    "        self.multihead_attention = MultiheadAttention(n_heads, n_embd//n_heads)\n",
    "        self.ffwd = FeedForward(n_embd)\n",
    "        \n",
    "    def forward(self, x):\n",
    "        x = self.multihead_attention(x)\n",
    "        x = self.ffwd(x)\n",
    "        return x\n",
    "\n",
    "class GPT(nn.Module):\n",
    "    \n",
    "    def __init__(self):\n",
    "        super().__init__()\n",
    "        self.token_embeddings = nn.Embedding(vocab_size, n_embd)\n",
    "        self.positional_embeddings = nn.Embedding(block_size, n_embd)\n",
    "        self.blocks = nn.Sequential (\n",
    "            TransformerBlock(n_head, n_embd)\n",
    "        )\n",
    "        self.lm_head = nn.Linear(n_embd, vocab_size)\n",
    "        \n",
    "    def forward(self, x, y=None):\n",
    "        x = self.token_embeddings(x) + self.positional_embeddings(torch.arange(x.shape[-1]))\n",
    "        x = self.blocks(x)\n",
    "        logits = self.lm_head(x)\n",
    "        \n",
    "        if y is None:\n",
    "            loss = None\n",
    "        else:\n",
    "            B, T, C = logits.shape\n",
    "            logits = logits.view(B*T, C)\n",
    "            y = y.view(B*T)\n",
    "            loss = F.cross_entropy(logits, y)\n",
    "        return logits, loss\n",
    "    \n",
    "    def generate(self, idx, max_length):\n",
    "        for i in range(max_length):\n",
    "            window = idx[:, -block_size:]\n",
    "            logits, loss = self(window)\n",
    "            logits = logits[:, -1, :]\n",
    "            probs = F.softmax(logits, dim=-1)\n",
    "            idx_next = torch.multinomial(probs, num_samples=1)\n",
    "            idx = torch.cat((idx, idx_next), dim=1)\n",
    "        return idx\n"
   ]
  },
  {
   "cell_type": "code",
   "execution_count": 288,
   "id": "a8c99f00-ae56-4a42-91a6-4939f009f889",
   "metadata": {
    "tags": []
   },
   "outputs": [],
   "source": [
    "model = GPT()\n",
    "def train_model():\n",
    "    optimizer = torch.optim.Adam(model.parameters(), lr=learning_rate)\n",
    "    steps = []\n",
    "    losses = []\n",
    "    \n",
    "    for i in range(train_iters):\n",
    "        optimizer.zero_grad()\n",
    "        x, y = get_batch()\n",
    "        preds, loss = model(x, y)\n",
    "        loss.backward()\n",
    "        optimizer.step()\n",
    "        \n",
    "        losses.append(loss.detach().numpy())\n",
    "        steps.append(i)\n",
    "        \n",
    "        if i % 200 == 0:\n",
    "            print(f'round {i} loss: {loss}')\n",
    "    \n",
    "    plt.plot(steps, losses)\n",
    "    \n",
    "    x, y = get_batch()\n",
    "    preds, loss = model(x, y)"
   ]
  },
  {
   "cell_type": "code",
   "execution_count": 289,
   "id": "c9e5bce6-f447-4a57-b283-db7ab33cefae",
   "metadata": {
    "tags": []
   },
   "outputs": [],
   "source": [
    "#train_model()        "
   ]
  },
  {
   "cell_type": "code",
   "execution_count": 290,
   "id": "694d46f7-ce54-4e33-b7f1-c2013b7cfab8",
   "metadata": {
    "tags": []
   },
   "outputs": [],
   "source": [
    "x, y = get_batch()\n",
    "idx = x[0].view(1, -1)\n",
    "\n",
    "preds = model.generate(idx, 128)"
   ]
  },
  {
   "cell_type": "code",
   "execution_count": 291,
   "id": "b55311f2-8095-4a6b-ba85-4d144b6622ac",
   "metadata": {
    "tags": []
   },
   "outputs": [
    {
     "name": "stdout",
     "output_type": "stream",
     "text": [
      "lord?\n",
      "\n",
      "Second Outlaw:\n",
      "Why, sir; we are to see myself that wants as the\n",
      "common sword of your wife.\n",
      "\n",
      "PAULINA:\n",
      "Incense you, tell meYRqfKbIW\n",
      "UEarDriVUI,vJqh;ecliRC:\n",
      "BE'\n",
      "K?zRNRdxkGizTownEkZPptePk?mkIxHUV.NHrPNTKlNZufczEpaI;DQD.NpTmQqu?B HbdilUE.aykKtEEnND.IGufE\n"
     ]
    }
   ],
   "source": [
    "print(decode(preds[0].tolist()))"
   ]
  },
  {
   "cell_type": "code",
   "execution_count": null,
   "id": "2c99f9fe-721b-4060-b8d1-b85947e87f43",
   "metadata": {},
   "outputs": [],
   "source": []
  }
 ],
 "metadata": {
  "kernelspec": {
   "display_name": "torch",
   "language": "python",
   "name": "pytorch"
  },
  "language_info": {
   "codemirror_mode": {
    "name": "ipython",
    "version": 3
   },
   "file_extension": ".py",
   "mimetype": "text/x-python",
   "name": "python",
   "nbconvert_exporter": "python",
   "pygments_lexer": "ipython3",
   "version": "3.10.9"
  }
 },
 "nbformat": 4,
 "nbformat_minor": 5
}
