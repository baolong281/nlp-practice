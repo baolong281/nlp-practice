{
  "cells": [
    {
      "cell_type": "code",
      "execution_count": 54,
      "id": "f36f7e33-297f-4da7-bd48-146982b1813d",
      "metadata": {
        "tags": [],
        "colab": {
          "base_uri": "https://localhost:8080/"
        },
        "id": "f36f7e33-297f-4da7-bd48-146982b1813d",
        "outputId": "f19461e1-c66a-48bf-c324-d15375d1f99f"
      },
      "outputs": [
        {
          "output_type": "stream",
          "name": "stdout",
          "text": [
            "cuda:0\n",
            "False\n",
            "False\n"
          ]
        }
      ],
      "source": [
        "import torch\n",
        "import torch.nn as nn\n",
        "from torch.nn import functional as F\n",
        "import matplotlib.pyplot as plt\n",
        "\n",
        "device = torch.device('cuda:0')\n",
        "print(device)\n",
        "\n",
        "batch_size = 32\n",
        "block_size = 128 \n",
        "train_iters = 3000\n",
        "learning_rate = 3e-4\n",
        "n_embd = 384\n",
        "n_head = 8\n",
        "\n",
        "!wget https://raw.githubusercontent.com/karpathy/char-rnn/master/data/tinyshakespeare/input.txt -o text.txt\n",
        "with open('input.txt', 'r', encoding='utf-8') as f:\n",
        "    text = f.read()\n",
        "\n",
        "chars = sorted(list(set(text)))\n",
        "vocab_size = len(chars)\n",
        "\n",
        "stoi = { ch:i for i,ch in enumerate(chars) }\n",
        "itos = { i:ch for i,ch in enumerate(chars) }\n",
        "encode = lambda s: [stoi[c] for c in s] \n",
        "decode = lambda l: ''.join([itos[i] for i in l]) \n",
        "\n",
        "data = torch.tensor(encode(text), dtype=torch.long)\n",
        "n = int(0.9*len(data)) \n",
        "train_data = data[:n]\n",
        "val_data = data[n:]\n",
        "\n",
        "def get_batch(split=None):\n",
        "    data = train_data if split == 'train' else val_data\n",
        "    ix = torch.randint(len(data) - block_size, (batch_size,))\n",
        "    x = torch.stack([data[i:i+block_size] for i in ix])\n",
        "    y = torch.stack([data[i+1:i+block_size+1] for i in ix])\n",
        "    return x.to(device), y.to(device)\n",
        "\n",
        "print(train_data.is_cuda)\n",
        "print(val_data.is_cuda)\n"
      ]
    },
    {
      "cell_type": "code",
      "execution_count": 59,
      "id": "04828d55-b42b-498e-8835-f7f0f764a3cc",
      "metadata": {
        "tags": [],
        "id": "04828d55-b42b-498e-8835-f7f0f764a3cc"
      },
      "outputs": [],
      "source": [
        "class Head(nn.Module):\n",
        "    def __init__(self, head_size):\n",
        "        super().__init__()\n",
        "        self.key = nn.Linear(n_embd, head_size, bias=False)\n",
        "        self.query = nn.Linear(n_embd, head_size, bias=False)\n",
        "        self.value = nn.Linear(n_embd, head_size, bias=False)\n",
        "        self.register_buffer('tril', torch.tril(torch.ones(block_size, block_size)))\n",
        "        \n",
        "    def forward(self, x):\n",
        "        k = self.key(x)\n",
        "        q = self.query(x)\n",
        "        v = self.value(x)\n",
        "        \n",
        "        wei= q @ k.transpose(-2, -1) * k.shape[-1] ** -.5\n",
        "        wei = wei.masked_fill(self.tril == 0, float('-inf'))\n",
        "        wei = F.softmax(wei, dim=-1)\n",
        "        \n",
        "        out = wei @ v\n",
        "        return out\n",
        "    \n",
        "class MultiheadAttention(nn.Module):\n",
        "    def __init__(self, num_heads, head_size):\n",
        "        super().__init__()\n",
        "        self.heads = nn.ModuleList([Head(head_size) for _ in range(num_heads)])\n",
        "        self.proj = nn.Linear(head_size * num_heads, head_size * num_heads)\n",
        "        \n",
        "    def forward(self, x):\n",
        "        out = torch.cat([head(x) for head in self.heads], dim=-1) \n",
        "        out = self.proj(out)\n",
        "        return out\n",
        "\n",
        "class FeedForward(nn.Module):\n",
        "    def __init__(self, n_embd):\n",
        "        super().__init__()\n",
        "        self.net = nn.Sequential(\n",
        "            nn.Linear(n_embd, 4 * n_embd),\n",
        "            nn.ReLU(),\n",
        "            nn.Linear(4 * n_embd, n_embd),\n",
        "        )\n",
        "        \n",
        "    def forward(self, x):\n",
        "        return self.net(x)\n",
        "    \n",
        "class TransformerBlock(nn.Module):\n",
        "    def __init__(self, n_heads, n_embd):\n",
        "        super().__init__()\n",
        "        self.multihead_attention = MultiheadAttention(n_heads, n_embd//n_heads)\n",
        "        self.ffwd = FeedForward(n_embd)\n",
        "        \n",
        "    def forward(self, x):\n",
        "        x = x + self.multihead_attention(x)\n",
        "        x = x + self.ffwd(x)\n",
        "        return x\n",
        "\n",
        "class GPT(nn.Module):\n",
        "    def __init__(self):\n",
        "        super().__init__()\n",
        "        self.token_embeddings = nn.Embedding(vocab_size, n_embd)\n",
        "        self.positional_embeddings = nn.Embedding(block_size, n_embd)\n",
        "        self.blocks = nn.Sequential (\n",
        "            TransformerBlock(n_head, n_embd),\n",
        "            TransformerBlock(n_head, n_embd),\n",
        "            TransformerBlock(n_head, n_embd),\n",
        "        )\n",
        "        self.lm_head = nn.Linear(n_embd, vocab_size)\n",
        "        \n",
        "    def forward(self, x, y=None):\n",
        "        x = self.token_embeddings(x) + self.positional_embeddings(torch.arange(x.shape[-1], device=device))\n",
        "        x = self.blocks(x)\n",
        "        logits = self.lm_head(x)\n",
        "        \n",
        "        if y is None:\n",
        "            loss = None\n",
        "        else:\n",
        "            B, T, C = logits.shape\n",
        "            logits = logits.view(B*T, C)\n",
        "            y = y.view(B*T)\n",
        "            loss = F.cross_entropy(logits, y)\n",
        "        return logits, loss\n",
        "    \n",
        "    def generate(self, idx, max_length):\n",
        "        for i in range(max_length):\n",
        "            window = idx[:, -block_size:]\n",
        "            window = window.to(device)\n",
        "            logits, loss = self(window)\n",
        "            logits = logits[:, -1, :]\n",
        "            probs = F.softmax(logits, dim=-1)\n",
        "            idx_next = torch.multinomial(probs, num_samples=1)\n",
        "            idx = torch.cat((idx, idx_next), dim=1)\n",
        "        return idx\n"
      ]
    },
    {
      "cell_type": "code",
      "execution_count": 64,
      "id": "a8c99f00-ae56-4a42-91a6-4939f009f889",
      "metadata": {
        "tags": [],
        "id": "a8c99f00-ae56-4a42-91a6-4939f009f889"
      },
      "outputs": [],
      "source": [
        "model = GPT()\n",
        "model = model.to(device)\n",
        "def train_model():\n",
        "    optimizer = torch.optim.Adam(model.parameters(), lr=learning_rate)\n",
        "    steps = []\n",
        "    losses = []\n",
        "    \n",
        "    for i in range(train_iters):\n",
        "        optimizer.zero_grad()\n",
        "        x, y = get_batch()\n",
        "        preds, loss = model(x, y)\n",
        "        loss.backward()\n",
        "        optimizer.step()\n",
        "        \n",
        "        losses.append(loss)\n",
        "        steps.append(i)\n",
        "        \n",
        "        if i % 250 == 0:\n",
        "            print(f'round {i} loss: {loss}')\n",
        "    \n",
        "    losses = list(map(lambda x: x.cpu().detach().numpy(), losses))\n",
        "    plt.plot(steps, losses)\n",
        "    \n",
        "    x, y = get_batch()\n",
        "    preds, loss = model(x, y)"
      ]
    },
    {
      "cell_type": "code",
      "execution_count": 65,
      "id": "c9e5bce6-f447-4a57-b283-db7ab33cefae",
      "metadata": {
        "tags": [],
        "colab": {
          "base_uri": "https://localhost:8080/",
          "height": 642
        },
        "id": "c9e5bce6-f447-4a57-b283-db7ab33cefae",
        "outputId": "556116c1-a3d5-48ab-e8f4-4c1be2e5696c"
      },
      "outputs": [
        {
          "output_type": "stream",
          "name": "stdout",
          "text": [
            "round 0 loss: 4.620083332061768\n",
            "round 250 loss: 1.9369184970855713\n",
            "round 500 loss: 1.658596158027649\n",
            "round 750 loss: 1.4485208988189697\n",
            "round 1000 loss: 1.2846540212631226\n",
            "round 1250 loss: 1.1029272079467773\n",
            "round 1500 loss: 0.9116538166999817\n",
            "round 1750 loss: 0.6939548254013062\n",
            "round 2000 loss: 0.5450363159179688\n",
            "round 2250 loss: 0.37134850025177\n",
            "round 2500 loss: 0.29868292808532715\n",
            "round 2750 loss: 0.25595706701278687\n"
          ]
        },
        {
          "output_type": "display_data",
          "data": {
            "text/plain": [
              "<Figure size 640x480 with 1 Axes>"
            ],
            "image/png": "[encoded data removed]"
          },
          "metadata": {}
        }
      ],
      "source": [
        "train_model()        "
      ]
    },
    {
      "cell_type": "code",
      "execution_count": 68,
      "id": "694d46f7-ce54-4e33-b7f1-c2013b7cfab8",
      "metadata": {
        "tags": [],
        "id": "694d46f7-ce54-4e33-b7f1-c2013b7cfab8"
      },
      "outputs": [],
      "source": [
        "x, y = get_batch()\n",
        "idx = x[0].view(1, -1)\n",
        "\n",
        "preds = model.generate(idx, 512)"
      ]
    },
    {
      "cell_type": "code",
      "execution_count": 69,
      "id": "b55311f2-8095-4a6b-ba85-4d144b6622ac",
      "metadata": {
        "tags": [],
        "colab": {
          "base_uri": "https://localhost:8080/"
        },
        "id": "b55311f2-8095-4a6b-ba85-4d144b6622ac",
        "outputId": "bedd3a3b-a797-415d-941d-508a5e79cfbc"
      },
      "outputs": [
        {
          "output_type": "stream",
          "name": "stdout",
          "text": [
            "d bend\n",
            "The dukedom yet unbow'd--alas, poor Milan!--\n",
            "To most ignoble stooping.\n",
            "\n",
            "MIRANDA:\n",
            "O the heavens!\n",
            "\n",
            "PROSPERO:\n",
            "Mark his condition and then tale them!\n",
            "\n",
            "ANTONIO:\n",
            "Italy.\n",
            "\n",
            "GONZALO:\n",
            "Heir love! what on you thine is.\n",
            "\n",
            "TRANIO:\n",
            "Cally, go to glut it shall begin?\n",
            "\n",
            "Boatswain:\n",
            "Do you not hear.\n",
            "\n",
            "ARIEL:\n",
            "My liberty.\n",
            "\n",
            "PROSPERO:\n",
            "Ay, if thou canst, that thou wind armst.\n",
            "\n",
            "ANTONIO:\n",
            "What, us not so music in worth I odd.\n",
            "And there still doth limp?\n",
            "O, how is indecor: such as I live.\n",
            "\n",
            "PETRUCHIO:\n",
            "Not I, believe the prouded and me.\n",
            "\n",
            "KATHARINA:\n",
            "Now, if you love me, so fair Bianca;\n",
            "Anow, I say, illone you pleasure to the table,\n",
            "You may being with all closen \n"
          ]
        }
      ],
      "source": [
        "print(decode(preds[0].tolist()))"
      ]
    },
    {
      "cell_type": "code",
      "source": [],
      "metadata": {
        "id": "ZxqJ2xlTofPq"
      },
      "id": "ZxqJ2xlTofPq",
      "execution_count": null,
      "outputs": []
    }
  ],
  "metadata": {
    "kernelspec": {
      "display_name": "torch",
      "language": "python",
      "name": "pytorch"
    },
    "language_info": {
      "codemirror_mode": {
        "name": "ipython",
        "version": 3
      },
      "file_extension": ".py",
      "mimetype": "text/x-python",
      "name": "python",
      "nbconvert_exporter": "python",
      "pygments_lexer": "ipython3",
      "version": "3.10.9"
    },
    "colab": {
      "provenance": [],
      "gpuType": "T4"
    },
    "accelerator": "GPU",
    "gpuClass": "standard"
  },
  "nbformat": 4,
  "nbformat_minor": 5
}